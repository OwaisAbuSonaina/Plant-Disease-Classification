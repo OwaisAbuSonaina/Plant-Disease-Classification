{
  "cells": [
    {
      "cell_type": "markdown",
      "id": "05ba840d",
      "metadata": {},
      "source": [
        "# Plant Disease Classification\n"
      ]
    },
    {
      "cell_type": "markdown",
      "id": "ca1c39ce",
      "metadata": {},
      "source": [
        "## 1. Getting Setup\n"
      ]
    },
    {
      "cell_type": "code",
      "execution_count": 1,
      "id": "90aa35ae",
      "metadata": {},
      "outputs": [
        {
          "name": "stdout",
          "output_type": "stream",
          "text": [
            "torch version: 2.8.0+cpu\n",
            "torchvision version: 0.23.0+cpu\n"
          ]
        }
      ],
      "source": [
        "import torch\n",
        "import torchvision\n",
        "from torch import nn\n",
        "from torchvision import transforms, datasets, transforms\n",
        "import matplotlib.pyplot as plt\n",
        "import numpy as np\n",
        "\n",
        "print(f\"torch version: {torch.__version__}\")\n",
        "print(f\"torchvision version: {torchvision.__version__}\")"
      ]
    },
    {
      "cell_type": "code",
      "execution_count": null,
      "id": "5c0c9ead",
      "metadata": {},
      "outputs": [
        {
          "name": "stderr",
          "output_type": "stream",
          "text": [
            "c:\\Users\\owais\\anaconda3\\envs\\ai-env\\lib\\site-packages\\tqdm\\auto.py:21: TqdmWarning: IProgress not found. Please update jupyter and ipywidgets. See https://ipywidgets.readthedocs.io/en/stable/user_install.html\n",
            "  from .autonotebook import tqdm as notebook_tqdm\n"
          ]
        }
      ],
      "source": [
        "from Some_Needed_Code import engine, engine_enhanced, data_setup\n",
        "from Some_Needed_Code.helper_functions import download_data, set_seeds"
      ]
    },
    {
      "cell_type": "code",
      "execution_count": 3,
      "id": "50a8077b",
      "metadata": {},
      "outputs": [
        {
          "data": {
            "text/plain": [
              "'cpu'"
            ]
          },
          "execution_count": 3,
          "metadata": {},
          "output_type": "execute_result"
        }
      ],
      "source": [
        "# Check the device\n",
        "device = \"cuda\" if torch.cuda.is_available() else \"cpu\"\n",
        "device"
      ]
    },
    {
      "cell_type": "markdown",
      "id": "245948c3",
      "metadata": {},
      "source": [
        "## 2. Prepare Dataset\n"
      ]
    },
    {
      "cell_type": "markdown",
      "id": "4a604f62",
      "metadata": {},
      "source": [
        "**Pytorch expects the folder structure to be as the following:**\n",
        "\n",
        "<div style=\"font-family: monospace; padding: 10px; border: 1px solid #ccc; background-color: #f9f9f9;\">\n",
        "    <div style=\"color: #007bff; font-weight: bold;\">PlantVillage/</div>\n",
        "    <div style=\"margin-left: 20px;\">\n",
        "        <div style=\"color: #6c757d;\">├── </div>\n",
        "        <div style=\"color: #007bff; font-weight: bold;\">train/</div>\n",
        "        <div style=\"margin-left: 20px; color: #343a40;\">\n",
        "            <div>│ &nbsp; ├── <span style=\"font-style: italic;\">Apple___Black_rot/</span></div>\n",
        "            <div>│ &nbsp; ├── <span style=\"font-style: italic;\">Apple___healthy/</span></div>\n",
        "            <div>│ &nbsp; ├── <span style=\"font-style: italic;\">...</span></div>\n",
        "        </div>\n",
        "        <div style=\"color: #6c757d;\">├── </div>\n",
        "        <div style=\"color: #007bff; font-weight: bold;\">val/</div>\n",
        "        <div style=\"margin-left: 20px; color: #343a40;\">\n",
        "            <div>│ &nbsp; ├── <span style=\"font-style: italic;\">Apple___Black_rot/</span></div>\n",
        "            <div>│ &nbsp; ├── <span style=\"font-style: italic;\">Apple___healthy/</span></div>\n",
        "            <div>│ &nbsp; ├── <span style=\"font-style: italic;\">...</span></div>\n",
        "        </div>\n",
        "        <div style=\"color: #6c757d;\">├── </div>\n",
        "        <div style=\"color: #007bff; font-weight: bold;\">test/</div>\n",
        "        <div style=\"margin-left: 20px; color: #343a40;\">\n",
        "            <div>│ &nbsp; ├── <span style=\"font-style: italic;\">Apple___Black_rot/</span></div>\n",
        "            <div>│ &nbsp; ├── <span style=\"font-style: italic;\">Apple___healthy/</span></div>\n",
        "            <div>│ &nbsp; ├── <span style=\"font-style: italic;\">...</span></div>\n",
        "        </div>\n",
        "    </div>\n",
        "</div>\n",
        "\n",
        "**Let's prepare it!**\n"
      ]
    },
    {
      "cell_type": "code",
      "execution_count": 4,
      "id": "6b4f6b48",
      "metadata": {},
      "outputs": [
        {
          "name": "stdout",
          "output_type": "stream",
          "text": [
            "Potato___healthy: 152 images\n",
            "Apple___Cedar_apple_rust: 275 images\n",
            "Peach___healthy: 360 images\n",
            "Raspberry___healthy: 371 images\n",
            "Tomato___Tomato_mosaic_virus: 373 images\n",
            "Grape___healthy: 423 images\n",
            "Strawberry___healthy: 456 images\n",
            "Corn_(maize)___Cercospora_leaf_spot Gray_leaf_spot: 513 images\n",
            "Apple___Black_rot: 621 images\n",
            "Apple___Apple_scab: 630 images\n",
            "Cherry_(including_sour)___healthy: 854 images\n",
            "Tomato___Leaf_Mold: 952 images\n",
            "Corn_(maize)___Northern_Leaf_Blight: 985 images\n",
            "Pepper,_bell___Bacterial_spot: 997 images\n",
            "Potato___Early_blight: 1000 images\n",
            "Potato___Late_blight: 1000 images\n",
            "Tomato___Early_blight: 1000 images\n",
            "Cherry_(including_sour)___Powdery_mildew: 1052 images\n",
            "Grape___Leaf_blight_(Isariopsis_Leaf_Spot): 1076 images\n",
            "Strawberry___Leaf_scorch: 1109 images\n",
            "Corn_(maize)___healthy: 1162 images\n",
            "Grape___Black_rot: 1180 images\n",
            "Corn_(maize)___Common_rust_: 1192 images\n",
            "Grape___Esca_(Black_Measles): 1383 images\n",
            "Tomato___Target_Spot: 1404 images\n",
            "Pepper,_bell___healthy: 1478 images\n",
            "Blueberry___healthy: 1502 images\n",
            "Tomato___healthy: 1591 images\n",
            "Apple___healthy: 1645 images\n",
            "Tomato___Spider_mites Two-spotted_spider_mite: 1676 images\n",
            "Tomato___Septoria_leaf_spot: 1771 images\n",
            "Squash___Powdery_mildew: 1835 images\n",
            "Tomato___Late_blight: 1909 images\n",
            "Tomato___Bacterial_spot: 2127 images\n",
            "Peach___Bacterial_spot: 2297 images\n",
            "Soybean___healthy: 5090 images\n",
            "Tomato___Tomato_Yellow_Leaf_Curl_Virus: 5357 images\n",
            "Orange___Haunglongbing_(Citrus_greening): 5507 images\n",
            "\n",
            "Total images: 54305\n",
            "Average per class: 1429.078947368421\n"
          ]
        }
      ],
      "source": [
        "# Check if the data is balanced or not\n",
        "import os\n",
        "from collections import Counter\n",
        "\n",
        "root_dir = \"./plantvillage dataset/color\"\n",
        "counts = {\n",
        "    cls: len(os.listdir(os.path.join(root_dir, cls)))\n",
        "    for cls in os.listdir(root_dir)\n",
        "    if os.path.isdir(os.path.join(root_dir, cls))\n",
        "}\n",
        "\n",
        "for cls, num in sorted(counts.items(), key=lambda x: x[1]):\n",
        "    print(f\"{cls}: {num} images\")\n",
        "\n",
        "total = sum(counts.values())\n",
        "print(\"\\nTotal images:\", total)\n",
        "print(\"Average per class:\", total / len(counts))"
      ]
    },
    {
      "cell_type": "code",
      "execution_count": 5,
      "id": "aa507115",
      "metadata": {},
      "outputs": [
        {
          "data": {
            "application/vnd.plotly.v1+json": {
              "config": {
                "plotlyServerURL": "https://plot.ly"
              },
              "data": [
                {
                  "hovertemplate": "Number of images=%{x}<br>Class=%{y}<extra></extra>",
                  "legendgroup": "",
                  "marker": {
                    "color": "#636efa",
                    "pattern": {
                      "shape": ""
                    }
                  },
                  "name": "",
                  "orientation": "h",
                  "showlegend": false,
                  "textposition": "auto",
                  "type": "bar",
                  "x": {
                    "bdata": "dgJtAhMBbQbeBVYDHAQBAqgEigTZA5wEZwWnATQEgxX5CGgB5QPGBegDmADoA3MB4hMrB8gBVQRPCOgDNwZ1B7gD6waMBnwFdQHtFA==",
                    "dtype": "i2"
                  },
                  "xaxis": "x",
                  "y": [
                    "Apple___Apple_scab",
                    "Apple___Black_rot",
                    "Apple___Cedar_apple_rust",
                    "Apple___healthy",
                    "Blueberry___healthy",
                    "Cherry_(including_sour)___healthy",
                    "Cherry_(including_sour)___Powdery_mildew",
                    "Corn_(maize)___Cercospora_leaf_spot Gray_leaf_spot",
                    "Corn_(maize)___Common_rust_",
                    "Corn_(maize)___healthy",
                    "Corn_(maize)___Northern_Leaf_Blight",
                    "Grape___Black_rot",
                    "Grape___Esca_(Black_Measles)",
                    "Grape___healthy",
                    "Grape___Leaf_blight_(Isariopsis_Leaf_Spot)",
                    "Orange___Haunglongbing_(Citrus_greening)",
                    "Peach___Bacterial_spot",
                    "Peach___healthy",
                    "Pepper,_bell___Bacterial_spot",
                    "Pepper,_bell___healthy",
                    "Potato___Early_blight",
                    "Potato___healthy",
                    "Potato___Late_blight",
                    "Raspberry___healthy",
                    "Soybean___healthy",
                    "Squash___Powdery_mildew",
                    "Strawberry___healthy",
                    "Strawberry___Leaf_scorch",
                    "Tomato___Bacterial_spot",
                    "Tomato___Early_blight",
                    "Tomato___healthy",
                    "Tomato___Late_blight",
                    "Tomato___Leaf_Mold",
                    "Tomato___Septoria_leaf_spot",
                    "Tomato___Spider_mites Two-spotted_spider_mite",
                    "Tomato___Target_Spot",
                    "Tomato___Tomato_mosaic_virus",
                    "Tomato___Tomato_Yellow_Leaf_Curl_Virus"
                  ],
                  "yaxis": "y"
                }
              ],
              "layout": {
                "barmode": "relative",
                "legend": {
                  "tracegroupgap": 0
                },
                "template": {
                  "data": {
                    "bar": [
                      {
                        "error_x": {
                          "color": "#2a3f5f"
                        },
                        "error_y": {
                          "color": "#2a3f5f"
                        },
                        "marker": {
                          "line": {
                            "color": "#E5ECF6",
                            "width": 0.5
                          },
                          "pattern": {
                            "fillmode": "overlay",
                            "size": 10,
                            "solidity": 0.2
                          }
                        },
                        "type": "bar"
                      }
                    ],
                    "barpolar": [
                      {
                        "marker": {
                          "line": {
                            "color": "#E5ECF6",
                            "width": 0.5
                          },
                          "pattern": {
                            "fillmode": "overlay",
                            "size": 10,
                            "solidity": 0.2
                          }
                        },
                        "type": "barpolar"
                      }
                    ],
                    "carpet": [
                      {
                        "aaxis": {
                          "endlinecolor": "#2a3f5f",
                          "gridcolor": "white",
                          "linecolor": "white",
                          "minorgridcolor": "white",
                          "startlinecolor": "#2a3f5f"
                        },
                        "baxis": {
                          "endlinecolor": "#2a3f5f",
                          "gridcolor": "white",
                          "linecolor": "white",
                          "minorgridcolor": "white",
                          "startlinecolor": "#2a3f5f"
                        },
                        "type": "carpet"
                      }
                    ],
                    "choropleth": [
                      {
                        "colorbar": {
                          "outlinewidth": 0,
                          "ticks": ""
                        },
                        "type": "choropleth"
                      }
                    ],
                    "contour": [
                      {
                        "colorbar": {
                          "outlinewidth": 0,
                          "ticks": ""
                        },
                        "colorscale": [
                          [
                            0,
                            "#0d0887"
                          ],
                          [
                            0.1111111111111111,
                            "#46039f"
                          ],
                          [
                            0.2222222222222222,
                            "#7201a8"
                          ],
                          [
                            0.3333333333333333,
                            "#9c179e"
                          ],
                          [
                            0.4444444444444444,
                            "#bd3786"
                          ],
                          [
                            0.5555555555555556,
                            "#d8576b"
                          ],
                          [
                            0.6666666666666666,
                            "#ed7953"
                          ],
                          [
                            0.7777777777777778,
                            "#fb9f3a"
                          ],
                          [
                            0.8888888888888888,
                            "#fdca26"
                          ],
                          [
                            1,
                            "#f0f921"
                          ]
                        ],
                        "type": "contour"
                      }
                    ],
                    "contourcarpet": [
                      {
                        "colorbar": {
                          "outlinewidth": 0,
                          "ticks": ""
                        },
                        "type": "contourcarpet"
                      }
                    ],
                    "heatmap": [
                      {
                        "colorbar": {
                          "outlinewidth": 0,
                          "ticks": ""
                        },
                        "colorscale": [
                          [
                            0,
                            "#0d0887"
                          ],
                          [
                            0.1111111111111111,
                            "#46039f"
                          ],
                          [
                            0.2222222222222222,
                            "#7201a8"
                          ],
                          [
                            0.3333333333333333,
                            "#9c179e"
                          ],
                          [
                            0.4444444444444444,
                            "#bd3786"
                          ],
                          [
                            0.5555555555555556,
                            "#d8576b"
                          ],
                          [
                            0.6666666666666666,
                            "#ed7953"
                          ],
                          [
                            0.7777777777777778,
                            "#fb9f3a"
                          ],
                          [
                            0.8888888888888888,
                            "#fdca26"
                          ],
                          [
                            1,
                            "#f0f921"
                          ]
                        ],
                        "type": "heatmap"
                      }
                    ],
                    "histogram": [
                      {
                        "marker": {
                          "pattern": {
                            "fillmode": "overlay",
                            "size": 10,
                            "solidity": 0.2
                          }
                        },
                        "type": "histogram"
                      }
                    ],
                    "histogram2d": [
                      {
                        "colorbar": {
                          "outlinewidth": 0,
                          "ticks": ""
                        },
                        "colorscale": [
                          [
                            0,
                            "#0d0887"
                          ],
                          [
                            0.1111111111111111,
                            "#46039f"
                          ],
                          [
                            0.2222222222222222,
                            "#7201a8"
                          ],
                          [
                            0.3333333333333333,
                            "#9c179e"
                          ],
                          [
                            0.4444444444444444,
                            "#bd3786"
                          ],
                          [
                            0.5555555555555556,
                            "#d8576b"
                          ],
                          [
                            0.6666666666666666,
                            "#ed7953"
                          ],
                          [
                            0.7777777777777778,
                            "#fb9f3a"
                          ],
                          [
                            0.8888888888888888,
                            "#fdca26"
                          ],
                          [
                            1,
                            "#f0f921"
                          ]
                        ],
                        "type": "histogram2d"
                      }
                    ],
                    "histogram2dcontour": [
                      {
                        "colorbar": {
                          "outlinewidth": 0,
                          "ticks": ""
                        },
                        "colorscale": [
                          [
                            0,
                            "#0d0887"
                          ],
                          [
                            0.1111111111111111,
                            "#46039f"
                          ],
                          [
                            0.2222222222222222,
                            "#7201a8"
                          ],
                          [
                            0.3333333333333333,
                            "#9c179e"
                          ],
                          [
                            0.4444444444444444,
                            "#bd3786"
                          ],
                          [
                            0.5555555555555556,
                            "#d8576b"
                          ],
                          [
                            0.6666666666666666,
                            "#ed7953"
                          ],
                          [
                            0.7777777777777778,
                            "#fb9f3a"
                          ],
                          [
                            0.8888888888888888,
                            "#fdca26"
                          ],
                          [
                            1,
                            "#f0f921"
                          ]
                        ],
                        "type": "histogram2dcontour"
                      }
                    ],
                    "mesh3d": [
                      {
                        "colorbar": {
                          "outlinewidth": 0,
                          "ticks": ""
                        },
                        "type": "mesh3d"
                      }
                    ],
                    "parcoords": [
                      {
                        "line": {
                          "colorbar": {
                            "outlinewidth": 0,
                            "ticks": ""
                          }
                        },
                        "type": "parcoords"
                      }
                    ],
                    "pie": [
                      {
                        "automargin": true,
                        "type": "pie"
                      }
                    ],
                    "scatter": [
                      {
                        "fillpattern": {
                          "fillmode": "overlay",
                          "size": 10,
                          "solidity": 0.2
                        },
                        "type": "scatter"
                      }
                    ],
                    "scatter3d": [
                      {
                        "line": {
                          "colorbar": {
                            "outlinewidth": 0,
                            "ticks": ""
                          }
                        },
                        "marker": {
                          "colorbar": {
                            "outlinewidth": 0,
                            "ticks": ""
                          }
                        },
                        "type": "scatter3d"
                      }
                    ],
                    "scattercarpet": [
                      {
                        "marker": {
                          "colorbar": {
                            "outlinewidth": 0,
                            "ticks": ""
                          }
                        },
                        "type": "scattercarpet"
                      }
                    ],
                    "scattergeo": [
                      {
                        "marker": {
                          "colorbar": {
                            "outlinewidth": 0,
                            "ticks": ""
                          }
                        },
                        "type": "scattergeo"
                      }
                    ],
                    "scattergl": [
                      {
                        "marker": {
                          "colorbar": {
                            "outlinewidth": 0,
                            "ticks": ""
                          }
                        },
                        "type": "scattergl"
                      }
                    ],
                    "scattermap": [
                      {
                        "marker": {
                          "colorbar": {
                            "outlinewidth": 0,
                            "ticks": ""
                          }
                        },
                        "type": "scattermap"
                      }
                    ],
                    "scattermapbox": [
                      {
                        "marker": {
                          "colorbar": {
                            "outlinewidth": 0,
                            "ticks": ""
                          }
                        },
                        "type": "scattermapbox"
                      }
                    ],
                    "scatterpolar": [
                      {
                        "marker": {
                          "colorbar": {
                            "outlinewidth": 0,
                            "ticks": ""
                          }
                        },
                        "type": "scatterpolar"
                      }
                    ],
                    "scatterpolargl": [
                      {
                        "marker": {
                          "colorbar": {
                            "outlinewidth": 0,
                            "ticks": ""
                          }
                        },
                        "type": "scatterpolargl"
                      }
                    ],
                    "scatterternary": [
                      {
                        "marker": {
                          "colorbar": {
                            "outlinewidth": 0,
                            "ticks": ""
                          }
                        },
                        "type": "scatterternary"
                      }
                    ],
                    "surface": [
                      {
                        "colorbar": {
                          "outlinewidth": 0,
                          "ticks": ""
                        },
                        "colorscale": [
                          [
                            0,
                            "#0d0887"
                          ],
                          [
                            0.1111111111111111,
                            "#46039f"
                          ],
                          [
                            0.2222222222222222,
                            "#7201a8"
                          ],
                          [
                            0.3333333333333333,
                            "#9c179e"
                          ],
                          [
                            0.4444444444444444,
                            "#bd3786"
                          ],
                          [
                            0.5555555555555556,
                            "#d8576b"
                          ],
                          [
                            0.6666666666666666,
                            "#ed7953"
                          ],
                          [
                            0.7777777777777778,
                            "#fb9f3a"
                          ],
                          [
                            0.8888888888888888,
                            "#fdca26"
                          ],
                          [
                            1,
                            "#f0f921"
                          ]
                        ],
                        "type": "surface"
                      }
                    ],
                    "table": [
                      {
                        "cells": {
                          "fill": {
                            "color": "#EBF0F8"
                          },
                          "line": {
                            "color": "white"
                          }
                        },
                        "header": {
                          "fill": {
                            "color": "#C8D4E3"
                          },
                          "line": {
                            "color": "white"
                          }
                        },
                        "type": "table"
                      }
                    ]
                  },
                  "layout": {
                    "annotationdefaults": {
                      "arrowcolor": "#2a3f5f",
                      "arrowhead": 0,
                      "arrowwidth": 1
                    },
                    "autotypenumbers": "strict",
                    "coloraxis": {
                      "colorbar": {
                        "outlinewidth": 0,
                        "ticks": ""
                      }
                    },
                    "colorscale": {
                      "diverging": [
                        [
                          0,
                          "#8e0152"
                        ],
                        [
                          0.1,
                          "#c51b7d"
                        ],
                        [
                          0.2,
                          "#de77ae"
                        ],
                        [
                          0.3,
                          "#f1b6da"
                        ],
                        [
                          0.4,
                          "#fde0ef"
                        ],
                        [
                          0.5,
                          "#f7f7f7"
                        ],
                        [
                          0.6,
                          "#e6f5d0"
                        ],
                        [
                          0.7,
                          "#b8e186"
                        ],
                        [
                          0.8,
                          "#7fbc41"
                        ],
                        [
                          0.9,
                          "#4d9221"
                        ],
                        [
                          1,
                          "#276419"
                        ]
                      ],
                      "sequential": [
                        [
                          0,
                          "#0d0887"
                        ],
                        [
                          0.1111111111111111,
                          "#46039f"
                        ],
                        [
                          0.2222222222222222,
                          "#7201a8"
                        ],
                        [
                          0.3333333333333333,
                          "#9c179e"
                        ],
                        [
                          0.4444444444444444,
                          "#bd3786"
                        ],
                        [
                          0.5555555555555556,
                          "#d8576b"
                        ],
                        [
                          0.6666666666666666,
                          "#ed7953"
                        ],
                        [
                          0.7777777777777778,
                          "#fb9f3a"
                        ],
                        [
                          0.8888888888888888,
                          "#fdca26"
                        ],
                        [
                          1,
                          "#f0f921"
                        ]
                      ],
                      "sequentialminus": [
                        [
                          0,
                          "#0d0887"
                        ],
                        [
                          0.1111111111111111,
                          "#46039f"
                        ],
                        [
                          0.2222222222222222,
                          "#7201a8"
                        ],
                        [
                          0.3333333333333333,
                          "#9c179e"
                        ],
                        [
                          0.4444444444444444,
                          "#bd3786"
                        ],
                        [
                          0.5555555555555556,
                          "#d8576b"
                        ],
                        [
                          0.6666666666666666,
                          "#ed7953"
                        ],
                        [
                          0.7777777777777778,
                          "#fb9f3a"
                        ],
                        [
                          0.8888888888888888,
                          "#fdca26"
                        ],
                        [
                          1,
                          "#f0f921"
                        ]
                      ]
                    },
                    "colorway": [
                      "#636efa",
                      "#EF553B",
                      "#00cc96",
                      "#ab63fa",
                      "#FFA15A",
                      "#19d3f3",
                      "#FF6692",
                      "#B6E880",
                      "#FF97FF",
                      "#FECB52"
                    ],
                    "font": {
                      "color": "#2a3f5f"
                    },
                    "geo": {
                      "bgcolor": "white",
                      "lakecolor": "white",
                      "landcolor": "#E5ECF6",
                      "showlakes": true,
                      "showland": true,
                      "subunitcolor": "white"
                    },
                    "hoverlabel": {
                      "align": "left"
                    },
                    "hovermode": "closest",
                    "mapbox": {
                      "style": "light"
                    },
                    "paper_bgcolor": "white",
                    "plot_bgcolor": "#E5ECF6",
                    "polar": {
                      "angularaxis": {
                        "gridcolor": "white",
                        "linecolor": "white",
                        "ticks": ""
                      },
                      "bgcolor": "#E5ECF6",
                      "radialaxis": {
                        "gridcolor": "white",
                        "linecolor": "white",
                        "ticks": ""
                      }
                    },
                    "scene": {
                      "xaxis": {
                        "backgroundcolor": "#E5ECF6",
                        "gridcolor": "white",
                        "gridwidth": 2,
                        "linecolor": "white",
                        "showbackground": true,
                        "ticks": "",
                        "zerolinecolor": "white"
                      },
                      "yaxis": {
                        "backgroundcolor": "#E5ECF6",
                        "gridcolor": "white",
                        "gridwidth": 2,
                        "linecolor": "white",
                        "showbackground": true,
                        "ticks": "",
                        "zerolinecolor": "white"
                      },
                      "zaxis": {
                        "backgroundcolor": "#E5ECF6",
                        "gridcolor": "white",
                        "gridwidth": 2,
                        "linecolor": "white",
                        "showbackground": true,
                        "ticks": "",
                        "zerolinecolor": "white"
                      }
                    },
                    "shapedefaults": {
                      "line": {
                        "color": "#2a3f5f"
                      }
                    },
                    "ternary": {
                      "aaxis": {
                        "gridcolor": "white",
                        "linecolor": "white",
                        "ticks": ""
                      },
                      "baxis": {
                        "gridcolor": "white",
                        "linecolor": "white",
                        "ticks": ""
                      },
                      "bgcolor": "#E5ECF6",
                      "caxis": {
                        "gridcolor": "white",
                        "linecolor": "white",
                        "ticks": ""
                      }
                    },
                    "title": {
                      "x": 0.05
                    },
                    "xaxis": {
                      "automargin": true,
                      "gridcolor": "white",
                      "linecolor": "white",
                      "ticks": "",
                      "title": {
                        "standoff": 15
                      },
                      "zerolinecolor": "white",
                      "zerolinewidth": 2
                    },
                    "yaxis": {
                      "automargin": true,
                      "gridcolor": "white",
                      "linecolor": "white",
                      "ticks": "",
                      "title": {
                        "standoff": 15
                      },
                      "zerolinecolor": "white",
                      "zerolinewidth": 2
                    }
                  }
                },
                "title": {
                  "text": "Interactive Distribution of Images per Class"
                },
                "xaxis": {
                  "anchor": "y",
                  "domain": [
                    0,
                    1
                  ],
                  "title": {
                    "text": "Number of images"
                  }
                },
                "yaxis": {
                  "anchor": "x",
                  "domain": [
                    0,
                    1
                  ],
                  "title": {
                    "text": "Class"
                  }
                }
              }
            }
          },
          "metadata": {},
          "output_type": "display_data"
        }
      ],
      "source": [
        "import plotly.express as px\n",
        "import pandas as pd\n",
        "\n",
        "data = pd.DataFrame(list(counts.items()), columns=[\"Class\", \"Number of images\"])\n",
        "\n",
        "fig = px.bar(\n",
        "    data,\n",
        "    x=\"Number of images\",\n",
        "    y=\"Class\",\n",
        "    orientation=\"h\",  # Ensures it's a horizontal bar chart\n",
        "    title=\"Interactive Distribution of Images per Class\",\n",
        ")\n",
        "\n",
        "fig.show()"
      ]
    },
    {
      "cell_type": "markdown",
      "id": "e45d8140",
      "metadata": {},
      "source": [
        "**So, the dataset is severely imbalanced.**\n",
        "\n",
        "**Based on this, will be applying _WeightedRandomSampler_ to the training set, after splitting the dataset.**\n"
      ]
    },
    {
      "cell_type": "code",
      "execution_count": 6,
      "id": "fc0357d2",
      "metadata": {},
      "outputs": [],
      "source": [
        "# # Splitting the Dataset\n",
        "# from sklearn.model_selection import train_test_split\n",
        "# import os, shutil, glob\n",
        "\n",
        "# source_dir = \"./plantvillage dataset/color\"\n",
        "# dest_dir = \"./plantvillage dataset/color_splitted\"\n",
        "\n",
        "# classes = os.listdir(source_dir)\n",
        "# for cls in classes:\n",
        "#     imgs = glob.glob(os.path.join(source_dir, cls, \"*.jpg\"))\n",
        "#     train, temp = train_test_split(imgs, test_size=0.3, random_state=42)\n",
        "#     val, test = train_test_split(temp, test_size=0.5, random_state=42)\n",
        "\n",
        "#     for name, split in zip([train, val, test], [\"train\", \"val\", \"test\"]):\n",
        "#         os.makedirs(os.path.join(dest_dir, split, cls), exist_ok=True)\n",
        "#         for img in name:\n",
        "#             shutil.copy(img, os.path.join(dest_dir, split, cls))"
      ]
    },
    {
      "cell_type": "code",
      "execution_count": 7,
      "id": "b8cdc4ed",
      "metadata": {},
      "outputs": [],
      "source": [
        "# Prepare some transforms\n",
        "transform = {\n",
        "    \"train\": transforms.Compose(\n",
        "        [\n",
        "            transforms.Resize((224, 224)),\n",
        "            transforms.RandomHorizontalFlip(),\n",
        "            transforms.RandomRotation(15),\n",
        "            transforms.ColorJitter(brightness=0.2, contrast=0.2, saturation=0.2),\n",
        "            transforms.ToTensor(),\n",
        "            transforms.Normalize([0.485, 0.456, 0.406], [0.229, 0.224, 0.225]),\n",
        "        ]\n",
        "    ),\n",
        "    \"val\": transforms.Compose(\n",
        "        [\n",
        "            transforms.Resize((224, 224)),\n",
        "            transforms.ToTensor(),\n",
        "            transforms.Normalize([0.485, 0.456, 0.406], [0.229, 0.224, 0.225]),\n",
        "        ]\n",
        "    ),\n",
        "}"
      ]
    },
    {
      "cell_type": "code",
      "execution_count": null,
      "id": "489fb7d5",
      "metadata": {},
      "outputs": [],
      "source": [
        "# Create Datasets\n",
        "data_dir = \"./plantvillage dataset/color_splitted\"\n",
        "train_dataset = datasets.ImageFolder(\n",
        "    os.path.join(data_dir, \"train\"), transform=transform[\"train\"]\n",
        ")\n",
        "val_dataset = datasets.ImageFolder(\n",
        "    os.path.join(data_dir, \"val\"), transform=transform[\"val\"]\n",
        ")"
      ]
    },
    {
      "cell_type": "code",
      "execution_count": null,
      "id": "58e241bd",
      "metadata": {},
      "outputs": [],
      "source": [
        "# Applying WieghtedRandomSampler ONLY on the training set\n",
        "from torch.utils.data import WeightedRandomSampler\n",
        "\n",
        "targets = [label for _, label in train_dataset.samples]\n",
        "class_counts = np.bincount(targets)\n",
        "class_weights = 1.0 / class_counts\n",
        "sample_weights = [class_weights[t] for t in targets]\n",
        "sampler = WeightedRandomSampler(\n",
        "    sample_weights, num_samples=len(sample_weights), replacement=True\n",
        ")"
      ]
    },
    {
      "cell_type": "code",
      "execution_count": null,
      "id": "a83276c4",
      "metadata": {},
      "outputs": [
        {
          "name": "stdout",
          "output_type": "stream",
          "text": [
            "Counter({28: 1049, 34: 1037, 36: 1036, 24: 1034, 2: 1030, 17: 1029, 25: 1029, 23: 1028, 11: 1027, 27: 1026, 20: 1020, 33: 1017, 30: 1015, 14: 1015, 26: 1007, 22: 1007, 37: 1006, 12: 1004, 7: 1001, 0: 999, 6: 995, 5: 993, 1: 993, 3: 992, 16: 991, 31: 991, 15: 988, 10: 986, 4: 986, 19: 984, 13: 982, 18: 981, 21: 974, 35: 974, 29: 955, 9: 952, 8: 933, 32: 930})\n"
          ]
        }
      ],
      "source": [
        "# Check if the sampler worked correctly\n",
        "from collections import Counter\n",
        "\n",
        "sampled_indices = list(sampler)\n",
        "sampled_classes = [targets[i] for i in sampled_indices]\n",
        "print(Counter(sampled_classes))"
      ]
    },
    {
      "cell_type": "code",
      "execution_count": null,
      "id": "cc8d0068",
      "metadata": {},
      "outputs": [],
      "source": [
        "# Create DataLoaders\n",
        "from torch.utils.data import DataLoader\n",
        "\n",
        "train_loader = DataLoader(train_dataset, batch_size=16, sampler=sampler)\n",
        "val_loader = DataLoader(val_dataset, batch_size=16, shuffle=True)"
      ]
    },
    {
      "cell_type": "markdown",
      "id": "6ea13686",
      "metadata": {},
      "source": [
        "## 3. Getting the Pretrained ConvNext-Tiny Model Ready for Training\n"
      ]
    },
    {
      "cell_type": "code",
      "execution_count": 12,
      "id": "e6d0f87a",
      "metadata": {},
      "outputs": [],
      "source": [
        "from torchvision import models\n",
        "\n",
        "model_weights = models.ConvNeXt_Tiny_Weights.DEFAULT\n",
        "model = models.convnext_tiny(weights=model_weights).to(device)\n",
        "# model"
      ]
    },
    {
      "cell_type": "code",
      "execution_count": 15,
      "id": "930d6542",
      "metadata": {},
      "outputs": [],
      "source": [
        "# Freeze all base (feature extractor) layers\n",
        "for param in model.parameters():\n",
        "    param.requires_grad = False\n",
        "\n",
        "# Replace the classifier head\n",
        "num_classes = 38  # PlantVillage has 38 classes\n",
        "model.classifier[2] = nn.Linear(model.classifier[2].in_features, num_classes)"
      ]
    },
    {
      "cell_type": "code",
      "execution_count": null,
      "id": "f83a304e",
      "metadata": {},
      "outputs": [
        {
          "data": {
            "text/plain": [
              "=======================================================================================================================================\n",
              "Layer (type (var_name))                                 Input Shape          Output Shape         Param #              Trainable\n",
              "=======================================================================================================================================\n",
              "ConvNeXt (ConvNeXt)                                     [32, 3, 224, 224]    [32, 38]             --                   Partial\n",
              "├─Sequential (features)                                 [32, 3, 224, 224]    [32, 768, 7, 7]      --                   False\n",
              "│    └─Conv2dNormActivation (0)                         [32, 3, 224, 224]    [32, 96, 56, 56]     --                   False\n",
              "│    │    └─Conv2d (0)                                  [32, 3, 224, 224]    [32, 96, 56, 56]     (4,704)              False\n",
              "│    │    └─LayerNorm2d (1)                             [32, 96, 56, 56]     [32, 96, 56, 56]     (192)                False\n",
              "│    └─Sequential (1)                                   [32, 96, 56, 56]     [32, 96, 56, 56]     --                   False\n",
              "│    │    └─CNBlock (0)                                 [32, 96, 56, 56]     [32, 96, 56, 56]     (79,296)             False\n",
              "│    │    └─CNBlock (1)                                 [32, 96, 56, 56]     [32, 96, 56, 56]     (79,296)             False\n",
              "│    │    └─CNBlock (2)                                 [32, 96, 56, 56]     [32, 96, 56, 56]     (79,296)             False\n",
              "│    └─Sequential (2)                                   [32, 96, 56, 56]     [32, 192, 28, 28]    --                   False\n",
              "│    │    └─LayerNorm2d (0)                             [32, 96, 56, 56]     [32, 96, 56, 56]     (192)                False\n",
              "│    │    └─Conv2d (1)                                  [32, 96, 56, 56]     [32, 192, 28, 28]    (73,920)             False\n",
              "│    └─Sequential (3)                                   [32, 192, 28, 28]    [32, 192, 28, 28]    --                   False\n",
              "│    │    └─CNBlock (0)                                 [32, 192, 28, 28]    [32, 192, 28, 28]    (306,048)            False\n",
              "│    │    └─CNBlock (1)                                 [32, 192, 28, 28]    [32, 192, 28, 28]    (306,048)            False\n",
              "│    │    └─CNBlock (2)                                 [32, 192, 28, 28]    [32, 192, 28, 28]    (306,048)            False\n",
              "│    └─Sequential (4)                                   [32, 192, 28, 28]    [32, 384, 14, 14]    --                   False\n",
              "│    │    └─LayerNorm2d (0)                             [32, 192, 28, 28]    [32, 192, 28, 28]    (384)                False\n",
              "│    │    └─Conv2d (1)                                  [32, 192, 28, 28]    [32, 384, 14, 14]    (295,296)            False\n",
              "│    └─Sequential (5)                                   [32, 384, 14, 14]    [32, 384, 14, 14]    --                   False\n",
              "│    │    └─CNBlock (0)                                 [32, 384, 14, 14]    [32, 384, 14, 14]    (1,201,920)          False\n",
              "│    │    └─CNBlock (1)                                 [32, 384, 14, 14]    [32, 384, 14, 14]    (1,201,920)          False\n",
              "│    │    └─CNBlock (2)                                 [32, 384, 14, 14]    [32, 384, 14, 14]    (1,201,920)          False\n",
              "│    │    └─CNBlock (3)                                 [32, 384, 14, 14]    [32, 384, 14, 14]    (1,201,920)          False\n",
              "│    │    └─CNBlock (4)                                 [32, 384, 14, 14]    [32, 384, 14, 14]    (1,201,920)          False\n",
              "│    │    └─CNBlock (5)                                 [32, 384, 14, 14]    [32, 384, 14, 14]    (1,201,920)          False\n",
              "│    │    └─CNBlock (6)                                 [32, 384, 14, 14]    [32, 384, 14, 14]    (1,201,920)          False\n",
              "│    │    └─CNBlock (7)                                 [32, 384, 14, 14]    [32, 384, 14, 14]    (1,201,920)          False\n",
              "│    │    └─CNBlock (8)                                 [32, 384, 14, 14]    [32, 384, 14, 14]    (1,201,920)          False\n",
              "│    └─Sequential (6)                                   [32, 384, 14, 14]    [32, 768, 7, 7]      --                   False\n",
              "│    │    └─LayerNorm2d (0)                             [32, 384, 14, 14]    [32, 384, 14, 14]    (768)                False\n",
              "│    │    └─Conv2d (1)                                  [32, 384, 14, 14]    [32, 768, 7, 7]      (1,180,416)          False\n",
              "│    └─Sequential (7)                                   [32, 768, 7, 7]      [32, 768, 7, 7]      --                   False\n",
              "│    │    └─CNBlock (0)                                 [32, 768, 7, 7]      [32, 768, 7, 7]      (4,763,136)          False\n",
              "│    │    └─CNBlock (1)                                 [32, 768, 7, 7]      [32, 768, 7, 7]      (4,763,136)          False\n",
              "│    │    └─CNBlock (2)                                 [32, 768, 7, 7]      [32, 768, 7, 7]      (4,763,136)          False\n",
              "├─AdaptiveAvgPool2d (avgpool)                           [32, 768, 7, 7]      [32, 768, 1, 1]      --                   --\n",
              "├─Sequential (classifier)                               [32, 768, 1, 1]      [32, 38]             --                   Partial\n",
              "│    └─LayerNorm2d (0)                                  [32, 768, 1, 1]      [32, 768, 1, 1]      (1,536)              False\n",
              "│    └─Flatten (1)                                      [32, 768, 1, 1]      [32, 768]            --                   --\n",
              "│    └─Linear (2)                                       [32, 768]            [32, 38]             29,222               True\n",
              "=======================================================================================================================================\n",
              "Total params: 27,849,350\n",
              "Trainable params: 29,222\n",
              "Non-trainable params: 27,820,128\n",
              "Total mult-adds (G): 10.29\n",
              "=======================================================================================================================================\n",
              "Input size (MB): 19.27\n",
              "Forward/backward pass size (MB): 4200.54\n",
              "Params size (MB): 111.37\n",
              "Estimated Total Size (MB): 4331.18\n",
              "======================================================================================================================================="
            ]
          },
          "execution_count": 16,
          "metadata": {},
          "output_type": "execute_result"
        }
      ],
      "source": [
        "from torchinfo import summary\n",
        "\n",
        "# Get a summary of the model\n",
        "summary(\n",
        "    model,\n",
        "    input_size=(32, 3, 224, 224),\n",
        "    verbose=0,\n",
        "    col_names=[\"input_size\", \"output_size\", \"num_params\", \"trainable\"],\n",
        "    col_width=20,\n",
        "    row_settings=[\"var_names\"],\n",
        ")"
      ]
    },
    {
      "cell_type": "markdown",
      "id": "fe49f5d8",
      "metadata": {},
      "source": [
        "## 4. Train the Model and Track the Results\n"
      ]
    },
    {
      "cell_type": "code",
      "execution_count": 17,
      "id": "7dbe2c20",
      "metadata": {},
      "outputs": [],
      "source": [
        "# Define loss function and optimizer\n",
        "loss_fn = nn.CrossEntropyLoss()\n",
        "optimizer = torch.optim.Adam(params=model.classifier[2].parameters(), lr=0.001)"
      ]
    },
    {
      "cell_type": "code",
      "execution_count": null,
      "id": "5c4fc20e",
      "metadata": {},
      "outputs": [
        {
          "data": {
            "text/html": [
              "<pre style=\"white-space:pre;overflow-x:auto;line-height:normal;font-family:Menlo,'DejaVu Sans Mono',consolas,'Courier New',monospace\">╭─────── 🚀 Training Engine ────────╮\n",
              "│                                   │\n",
              "│  <span style=\"color: #c0c0c0; text-decoration-color: #c0c0c0; background-color: #005f00; font-weight: bold\"> STARTING TRAINING </span>              │\n",
              "│                                   │\n",
              "│  <span style=\"font-weight: bold\">Start Time:</span> 2025-10-18 22:25:15  │\n",
              "│  <span style=\"font-weight: bold\">Device:</span> cpu                      │\n",
              "│  <span style=\"font-weight: bold\">Epochs:</span> 5                        │\n",
              "│                                   │\n",
              "╰──────────── engine.py ────────────╯\n",
              "</pre>\n"
            ],
            "text/plain": [
              "╭─────── 🚀 Training Engine ────────╮\n",
              "│                                   │\n",
              "│  \u001b[1;37;48;5;22m STARTING TRAINING \u001b[0m              │\n",
              "│                                   │\n",
              "│  \u001b[1mStart Time:\u001b[0m 2025-10-18 22:25:15  │\n",
              "│  \u001b[1mDevice:\u001b[0m cpu                      │\n",
              "│  \u001b[1mEpochs:\u001b[0m 5                        │\n",
              "│                                   │\n",
              "╰──────────── engine.py ────────────╯\n"
            ]
          },
          "metadata": {},
          "output_type": "display_data"
        },
        {
          "data": {
            "text/html": [
              "<pre style=\"white-space:pre;overflow-x:auto;line-height:normal;font-family:Menlo,'DejaVu Sans Mono',consolas,'Courier New',monospace\"><span style=\"color: #808000; text-decoration-color: #808000\">Epoch </span><span style=\"color: #808000; text-decoration-color: #808000; font-weight: bold\">1</span><span style=\"color: #808000; text-decoration-color: #808000\">/</span><span style=\"color: #808000; text-decoration-color: #808000; font-weight: bold\">5</span><span style=\"color: #808000; text-decoration-color: #808000\"> — elapsed: </span><span style=\"color: #808000; text-decoration-color: #808000; font-weight: bold\">0:00:00</span>\n",
              "</pre>\n"
            ],
            "text/plain": [
              "\u001b[33mEpoch \u001b[0m\u001b[1;33m1\u001b[0m\u001b[33m/\u001b[0m\u001b[1;33m5\u001b[0m\u001b[33m — elapsed: \u001b[0m\u001b[1;33m0:00:00\u001b[0m\n"
            ]
          },
          "metadata": {},
          "output_type": "display_data"
        },
        {
          "name": "stderr",
          "output_type": "stream",
          "text": [
            "Epoch 1/5 [train]: 100%|█| 2375/2375 [41:18<00:00,  1.04s/it, Loss=0.3794, BatchLoss=0.0705, Acc=0.9216, Elapsed=0:41:18\n",
            "Epoch 1/5 [val]  : 100%|\u001b[34m██\u001b[0m| 510/510 [08:36<00:00,  1.01s/it, Loss=0.1407, BatchLoss=0.0002, Acc=0.9610, Elapsed=0:08:36]\u001b[0m\n"
          ]
        },
        {
          "data": {
            "text/html": [
              "<pre style=\"white-space:pre;overflow-x:auto;line-height:normal;font-family:Menlo,'DejaVu Sans Mono',consolas,'Courier New',monospace\">┏━━━━━━━━━━━━━━┳━━━━━━━━┳━━━━━━━━━━┓\n",
              "┃<span style=\"color: #800080; text-decoration-color: #800080; font-weight: bold\"> Phase        </span>┃<span style=\"color: #800080; text-decoration-color: #800080; font-weight: bold\">   Loss </span>┃<span style=\"color: #800080; text-decoration-color: #800080; font-weight: bold\"> Accuracy </span>┃\n",
              "┡━━━━━━━━━━━━━━╇━━━━━━━━╇━━━━━━━━━━┩\n",
              "│<span style=\"color: #7f7f7f; text-decoration-color: #7f7f7f\"> Train        </span>│ 0.3794 │   0.9216 │\n",
              "│<span style=\"color: #7f7f7f; text-decoration-color: #7f7f7f\"> Val          </span>│ 0.1407 │   0.9610 │\n",
              "└──────────────┴────────┴──────────┘\n",
              "</pre>\n"
            ],
            "text/plain": [
              "┏━━━━━━━━━━━━━━┳━━━━━━━━┳━━━━━━━━━━┓\n",
              "┃\u001b[1;35m \u001b[0m\u001b[1;35mPhase       \u001b[0m\u001b[1;35m \u001b[0m┃\u001b[1;35m \u001b[0m\u001b[1;35m  Loss\u001b[0m\u001b[1;35m \u001b[0m┃\u001b[1;35m \u001b[0m\u001b[1;35mAccuracy\u001b[0m\u001b[1;35m \u001b[0m┃\n",
              "┡━━━━━━━━━━━━━━╇━━━━━━━━╇━━━━━━━━━━┩\n",
              "│\u001b[2m \u001b[0m\u001b[2mTrain       \u001b[0m\u001b[2m \u001b[0m│ 0.3794 │   0.9216 │\n",
              "│\u001b[2m \u001b[0m\u001b[2mVal         \u001b[0m\u001b[2m \u001b[0m│ 0.1407 │   0.9610 │\n",
              "└──────────────┴────────┴──────────┘\n"
            ]
          },
          "metadata": {},
          "output_type": "display_data"
        },
        {
          "data": {
            "text/html": [
              "<pre style=\"white-space:pre;overflow-x:auto;line-height:normal;font-family:Menlo,'DejaVu Sans Mono',consolas,'Courier New',monospace\"><span style=\"color: #808000; text-decoration-color: #808000\">Epoch </span><span style=\"color: #808000; text-decoration-color: #808000; font-weight: bold\">2</span><span style=\"color: #808000; text-decoration-color: #808000\">/</span><span style=\"color: #808000; text-decoration-color: #808000; font-weight: bold\">5</span><span style=\"color: #808000; text-decoration-color: #808000\"> — elapsed: </span><span style=\"color: #808000; text-decoration-color: #808000; font-weight: bold\">0:49:54</span>\n",
              "</pre>\n"
            ],
            "text/plain": [
              "\u001b[33mEpoch \u001b[0m\u001b[1;33m2\u001b[0m\u001b[33m/\u001b[0m\u001b[1;33m5\u001b[0m\u001b[33m — elapsed: \u001b[0m\u001b[1;33m0:49:54\u001b[0m\n"
            ]
          },
          "metadata": {},
          "output_type": "display_data"
        },
        {
          "name": "stderr",
          "output_type": "stream",
          "text": [
            "Epoch 2/5 [train]: 100%|█| 2375/2375 [41:43<00:00,  1.05s/it, Loss=0.1091, BatchLoss=0.0115, Acc=0.9714, Elapsed=0:41:43\n",
            "Epoch 2/5 [val]  : 100%|\u001b[34m██\u001b[0m| 510/510 [08:24<00:00,  1.01it/s, Loss=0.0841, BatchLoss=0.0185, Acc=0.9737, Elapsed=0:08:24]\u001b[0m\n"
          ]
        },
        {
          "data": {
            "text/html": [
              "<pre style=\"white-space:pre;overflow-x:auto;line-height:normal;font-family:Menlo,'DejaVu Sans Mono',consolas,'Courier New',monospace\">┏━━━━━━━━━━━━━━┳━━━━━━━━┳━━━━━━━━━━┓\n",
              "┃<span style=\"color: #800080; text-decoration-color: #800080; font-weight: bold\"> Phase        </span>┃<span style=\"color: #800080; text-decoration-color: #800080; font-weight: bold\">   Loss </span>┃<span style=\"color: #800080; text-decoration-color: #800080; font-weight: bold\"> Accuracy </span>┃\n",
              "┡━━━━━━━━━━━━━━╇━━━━━━━━╇━━━━━━━━━━┩\n",
              "│<span style=\"color: #7f7f7f; text-decoration-color: #7f7f7f\"> Train        </span>│ 0.1091 │   0.9714 │\n",
              "│<span style=\"color: #7f7f7f; text-decoration-color: #7f7f7f\"> Val          </span>│ 0.0841 │   0.9737 │\n",
              "└──────────────┴────────┴──────────┘\n",
              "</pre>\n"
            ],
            "text/plain": [
              "┏━━━━━━━━━━━━━━┳━━━━━━━━┳━━━━━━━━━━┓\n",
              "┃\u001b[1;35m \u001b[0m\u001b[1;35mPhase       \u001b[0m\u001b[1;35m \u001b[0m┃\u001b[1;35m \u001b[0m\u001b[1;35m  Loss\u001b[0m\u001b[1;35m \u001b[0m┃\u001b[1;35m \u001b[0m\u001b[1;35mAccuracy\u001b[0m\u001b[1;35m \u001b[0m┃\n",
              "┡━━━━━━━━━━━━━━╇━━━━━━━━╇━━━━━━━━━━┩\n",
              "│\u001b[2m \u001b[0m\u001b[2mTrain       \u001b[0m\u001b[2m \u001b[0m│ 0.1091 │   0.9714 │\n",
              "│\u001b[2m \u001b[0m\u001b[2mVal         \u001b[0m\u001b[2m \u001b[0m│ 0.0841 │   0.9737 │\n",
              "└──────────────┴────────┴──────────┘\n"
            ]
          },
          "metadata": {},
          "output_type": "display_data"
        },
        {
          "data": {
            "text/html": [
              "<pre style=\"white-space:pre;overflow-x:auto;line-height:normal;font-family:Menlo,'DejaVu Sans Mono',consolas,'Courier New',monospace\"><span style=\"color: #808000; text-decoration-color: #808000\">Epoch </span><span style=\"color: #808000; text-decoration-color: #808000; font-weight: bold\">3</span><span style=\"color: #808000; text-decoration-color: #808000\">/</span><span style=\"color: #808000; text-decoration-color: #808000; font-weight: bold\">5</span><span style=\"color: #808000; text-decoration-color: #808000\"> — elapsed: </span><span style=\"color: #808000; text-decoration-color: #808000; font-weight: bold\">1:40:02</span>\n",
              "</pre>\n"
            ],
            "text/plain": [
              "\u001b[33mEpoch \u001b[0m\u001b[1;33m3\u001b[0m\u001b[33m/\u001b[0m\u001b[1;33m5\u001b[0m\u001b[33m — elapsed: \u001b[0m\u001b[1;33m1:40:02\u001b[0m\n"
            ]
          },
          "metadata": {},
          "output_type": "display_data"
        },
        {
          "name": "stderr",
          "output_type": "stream",
          "text": [
            "Epoch 3/5 [train]: 100%|█| 2375/2375 [1:18:29<00:00,  1.98s/it, Loss=0.0783, BatchLoss=0.0069, Acc=0.9778, Elapsed=1:18:\n",
            "Epoch 3/5 [val]  : 100%|\u001b[34m██\u001b[0m| 510/510 [21:40<00:00,  2.55s/it, Loss=0.0770, BatchLoss=0.0176, Acc=0.9767, Elapsed=0:21:40]\u001b[0m\n"
          ]
        },
        {
          "data": {
            "text/html": [
              "<pre style=\"white-space:pre;overflow-x:auto;line-height:normal;font-family:Menlo,'DejaVu Sans Mono',consolas,'Courier New',monospace\">┏━━━━━━━━━━━━━━┳━━━━━━━━┳━━━━━━━━━━┓\n",
              "┃<span style=\"color: #800080; text-decoration-color: #800080; font-weight: bold\"> Phase        </span>┃<span style=\"color: #800080; text-decoration-color: #800080; font-weight: bold\">   Loss </span>┃<span style=\"color: #800080; text-decoration-color: #800080; font-weight: bold\"> Accuracy </span>┃\n",
              "┡━━━━━━━━━━━━━━╇━━━━━━━━╇━━━━━━━━━━┩\n",
              "│<span style=\"color: #7f7f7f; text-decoration-color: #7f7f7f\"> Train        </span>│ 0.0783 │   0.9778 │\n",
              "│<span style=\"color: #7f7f7f; text-decoration-color: #7f7f7f\"> Val          </span>│ 0.0770 │   0.9767 │\n",
              "└──────────────┴────────┴──────────┘\n",
              "</pre>\n"
            ],
            "text/plain": [
              "┏━━━━━━━━━━━━━━┳━━━━━━━━┳━━━━━━━━━━┓\n",
              "┃\u001b[1;35m \u001b[0m\u001b[1;35mPhase       \u001b[0m\u001b[1;35m \u001b[0m┃\u001b[1;35m \u001b[0m\u001b[1;35m  Loss\u001b[0m\u001b[1;35m \u001b[0m┃\u001b[1;35m \u001b[0m\u001b[1;35mAccuracy\u001b[0m\u001b[1;35m \u001b[0m┃\n",
              "┡━━━━━━━━━━━━━━╇━━━━━━━━╇━━━━━━━━━━┩\n",
              "│\u001b[2m \u001b[0m\u001b[2mTrain       \u001b[0m\u001b[2m \u001b[0m│ 0.0783 │   0.9778 │\n",
              "│\u001b[2m \u001b[0m\u001b[2mVal         \u001b[0m\u001b[2m \u001b[0m│ 0.0770 │   0.9767 │\n",
              "└──────────────┴────────┴──────────┘\n"
            ]
          },
          "metadata": {},
          "output_type": "display_data"
        },
        {
          "data": {
            "text/html": [
              "<pre style=\"white-space:pre;overflow-x:auto;line-height:normal;font-family:Menlo,'DejaVu Sans Mono',consolas,'Courier New',monospace\"><span style=\"color: #808000; text-decoration-color: #808000\">Epoch </span><span style=\"color: #808000; text-decoration-color: #808000; font-weight: bold\">4</span><span style=\"color: #808000; text-decoration-color: #808000\">/</span><span style=\"color: #808000; text-decoration-color: #808000; font-weight: bold\">5</span><span style=\"color: #808000; text-decoration-color: #808000\"> — elapsed: </span><span style=\"color: #808000; text-decoration-color: #808000; font-weight: bold\">3:20:11</span>\n",
              "</pre>\n"
            ],
            "text/plain": [
              "\u001b[33mEpoch \u001b[0m\u001b[1;33m4\u001b[0m\u001b[33m/\u001b[0m\u001b[1;33m5\u001b[0m\u001b[33m — elapsed: \u001b[0m\u001b[1;33m3:20:11\u001b[0m\n"
            ]
          },
          "metadata": {},
          "output_type": "display_data"
        },
        {
          "name": "stderr",
          "output_type": "stream",
          "text": [
            "Epoch 4/5 [train]: 100%|█| 2375/2375 [5:03:48<00:00,  7.67s/it, Loss=0.0648, BatchLoss=0.0869, Acc=0.9810, Elapsed=5:03:\n",
            "Epoch 4/5 [val]  : 100%|\u001b[34m██\u001b[0m| 510/510 [09:18<00:00,  1.09s/it, Loss=0.0656, BatchLoss=0.0482, Acc=0.9801, Elapsed=0:09:18]\u001b[0m\n"
          ]
        },
        {
          "data": {
            "text/html": [
              "<pre style=\"white-space:pre;overflow-x:auto;line-height:normal;font-family:Menlo,'DejaVu Sans Mono',consolas,'Courier New',monospace\">┏━━━━━━━━━━━━━━┳━━━━━━━━┳━━━━━━━━━━┓\n",
              "┃<span style=\"color: #800080; text-decoration-color: #800080; font-weight: bold\"> Phase        </span>┃<span style=\"color: #800080; text-decoration-color: #800080; font-weight: bold\">   Loss </span>┃<span style=\"color: #800080; text-decoration-color: #800080; font-weight: bold\"> Accuracy </span>┃\n",
              "┡━━━━━━━━━━━━━━╇━━━━━━━━╇━━━━━━━━━━┩\n",
              "│<span style=\"color: #7f7f7f; text-decoration-color: #7f7f7f\"> Train        </span>│ 0.0648 │   0.9810 │\n",
              "│<span style=\"color: #7f7f7f; text-decoration-color: #7f7f7f\"> Val          </span>│ 0.0656 │   0.9801 │\n",
              "└──────────────┴────────┴──────────┘\n",
              "</pre>\n"
            ],
            "text/plain": [
              "┏━━━━━━━━━━━━━━┳━━━━━━━━┳━━━━━━━━━━┓\n",
              "┃\u001b[1;35m \u001b[0m\u001b[1;35mPhase       \u001b[0m\u001b[1;35m \u001b[0m┃\u001b[1;35m \u001b[0m\u001b[1;35m  Loss\u001b[0m\u001b[1;35m \u001b[0m┃\u001b[1;35m \u001b[0m\u001b[1;35mAccuracy\u001b[0m\u001b[1;35m \u001b[0m┃\n",
              "┡━━━━━━━━━━━━━━╇━━━━━━━━╇━━━━━━━━━━┩\n",
              "│\u001b[2m \u001b[0m\u001b[2mTrain       \u001b[0m\u001b[2m \u001b[0m│ 0.0648 │   0.9810 │\n",
              "│\u001b[2m \u001b[0m\u001b[2mVal         \u001b[0m\u001b[2m \u001b[0m│ 0.0656 │   0.9801 │\n",
              "└──────────────┴────────┴──────────┘\n"
            ]
          },
          "metadata": {},
          "output_type": "display_data"
        },
        {
          "data": {
            "text/html": [
              "<pre style=\"white-space:pre;overflow-x:auto;line-height:normal;font-family:Menlo,'DejaVu Sans Mono',consolas,'Courier New',monospace\"><span style=\"color: #808000; text-decoration-color: #808000\">Epoch </span><span style=\"color: #808000; text-decoration-color: #808000; font-weight: bold\">5</span><span style=\"color: #808000; text-decoration-color: #808000\">/</span><span style=\"color: #808000; text-decoration-color: #808000; font-weight: bold\">5</span><span style=\"color: #808000; text-decoration-color: #808000\"> — elapsed: </span><span style=\"color: #808000; text-decoration-color: #808000; font-weight: bold\">8:33:18</span>\n",
              "</pre>\n"
            ],
            "text/plain": [
              "\u001b[33mEpoch \u001b[0m\u001b[1;33m5\u001b[0m\u001b[33m/\u001b[0m\u001b[1;33m5\u001b[0m\u001b[33m — elapsed: \u001b[0m\u001b[1;33m8:33:18\u001b[0m\n"
            ]
          },
          "metadata": {},
          "output_type": "display_data"
        },
        {
          "name": "stderr",
          "output_type": "stream",
          "text": [
            "Epoch 5/5 [train]: 100%|█| 2375/2375 [43:01<00:00,  1.09s/it, Loss=0.0550, BatchLoss=0.1372, Acc=0.9833, Elapsed=0:43:01\n",
            "Epoch 5/5 [val]  : 100%|\u001b[34m██\u001b[0m| 510/510 [08:49<00:00,  1.04s/it, Loss=0.0541, BatchLoss=0.0001, Acc=0.9829, Elapsed=0:08:49]\u001b[0m\n"
          ]
        },
        {
          "data": {
            "text/html": [
              "<pre style=\"white-space:pre;overflow-x:auto;line-height:normal;font-family:Menlo,'DejaVu Sans Mono',consolas,'Courier New',monospace\">┏━━━━━━━━━━━━━━┳━━━━━━━━┳━━━━━━━━━━┓\n",
              "┃<span style=\"color: #800080; text-decoration-color: #800080; font-weight: bold\"> Phase        </span>┃<span style=\"color: #800080; text-decoration-color: #800080; font-weight: bold\">   Loss </span>┃<span style=\"color: #800080; text-decoration-color: #800080; font-weight: bold\"> Accuracy </span>┃\n",
              "┡━━━━━━━━━━━━━━╇━━━━━━━━╇━━━━━━━━━━┩\n",
              "│<span style=\"color: #7f7f7f; text-decoration-color: #7f7f7f\"> Train        </span>│ 0.0550 │   0.9833 │\n",
              "│<span style=\"color: #7f7f7f; text-decoration-color: #7f7f7f\"> Val          </span>│ 0.0541 │   0.9829 │\n",
              "└──────────────┴────────┴──────────┘\n",
              "</pre>\n"
            ],
            "text/plain": [
              "┏━━━━━━━━━━━━━━┳━━━━━━━━┳━━━━━━━━━━┓\n",
              "┃\u001b[1;35m \u001b[0m\u001b[1;35mPhase       \u001b[0m\u001b[1;35m \u001b[0m┃\u001b[1;35m \u001b[0m\u001b[1;35m  Loss\u001b[0m\u001b[1;35m \u001b[0m┃\u001b[1;35m \u001b[0m\u001b[1;35mAccuracy\u001b[0m\u001b[1;35m \u001b[0m┃\n",
              "┡━━━━━━━━━━━━━━╇━━━━━━━━╇━━━━━━━━━━┩\n",
              "│\u001b[2m \u001b[0m\u001b[2mTrain       \u001b[0m\u001b[2m \u001b[0m│ 0.0550 │   0.9833 │\n",
              "│\u001b[2m \u001b[0m\u001b[2mVal         \u001b[0m\u001b[2m \u001b[0m│ 0.0541 │   0.9829 │\n",
              "└──────────────┴────────┴──────────┘\n"
            ]
          },
          "metadata": {},
          "output_type": "display_data"
        },
        {
          "data": {
            "text/html": [
              "<pre style=\"white-space:pre;overflow-x:auto;line-height:normal;font-family:Menlo,'DejaVu Sans Mono',consolas,'Courier New',monospace\">╭───────────── ✅ Done ──────────────╮\n",
              "│                                    │\n",
              "│  <span style=\"color: #c0c0c0; text-decoration-color: #c0c0c0; background-color: #000087; font-weight: bold\"> TRAINING COMPLETE 🎉 </span>            │\n",
              "│                                    │\n",
              "│  <span style=\"font-weight: bold\">Finish Time:</span> 2025-10-19 07:50:24  │\n",
              "│  <span style=\"font-weight: bold\">Total Duration:</span> 9:25:08           │\n",
              "│                                    │\n",
              "╰────────────────────────────────────╯\n",
              "</pre>\n"
            ],
            "text/plain": [
              "╭───────────── ✅ Done ──────────────╮\n",
              "│                                    │\n",
              "│  \u001b[1;37;48;5;18m TRAINING COMPLETE 🎉 \u001b[0m            │\n",
              "│                                    │\n",
              "│  \u001b[1mFinish Time:\u001b[0m 2025-10-19 07:50:24  │\n",
              "│  \u001b[1mTotal Duration:\u001b[0m 9:25:08           │\n",
              "│                                    │\n",
              "╰────────────────────────────────────╯\n"
            ]
          },
          "metadata": {},
          "output_type": "display_data"
        }
      ],
      "source": [
        "# Train the Model\n",
        "set_seeds()\n",
        "results = engine_enhanced.train(\n",
        "    model=model,\n",
        "    train_dataloader=train_loader,\n",
        "    test_dataloader=val_loader,\n",
        "    optimizer=optimizer,\n",
        "    loss_fn=loss_fn,\n",
        "    epochs=5,\n",
        "    device=device,\n",
        ")"
      ]
    },
    {
      "cell_type": "code",
      "execution_count": null,
      "id": "f1bcee96",
      "metadata": {},
      "outputs": [
        {
          "name": "stdout",
          "output_type": "stream",
          "text": [
            "[INFO] Saving model to: models\\ConvNext-Tiny_First_Try.pth\n"
          ]
        }
      ],
      "source": [
        "# Save the model\n",
        "from Some_Needed_Code.utils import save_model\n",
        "\n",
        "save_model(model=model, target_dir=\"./models\", model_name=\"ConvNext-Tiny_First_Try.pth\")"
      ]
    },
    {
      "cell_type": "markdown",
      "id": "ac084bd2",
      "metadata": {},
      "source": [
        "## 5. Evaluate the Model\n"
      ]
    },
    {
      "cell_type": "code",
      "execution_count": null,
      "id": "b33c0cfc",
      "metadata": {},
      "outputs": [
        {
          "name": "stdout",
          "output_type": "stream",
          "text": [
            "Pretrained ConvNext-Tiny feature extractor model size: 106 MB\n"
          ]
        }
      ],
      "source": [
        "# Check the model size\n",
        "from pathlib import Path\n",
        "\n",
        "# Get the model size in bytes then convert to megabytes\n",
        "pretrained_effnetb2_model_size = Path(\n",
        "    \"models\\ConvNext-Tiny_First_Try.pth\"\n",
        ").stat().st_size // (\n",
        "    1024 * 1024\n",
        ")  # division converts bytes to megabytes (roughly)\n",
        "print(\n",
        "    f\"Pretrained ConvNext-Tiny feature extractor model size: {pretrained_effnetb2_model_size} MB\"\n",
        ")"
      ]
    },
    {
      "cell_type": "code",
      "execution_count": 33,
      "id": "f3b72a12",
      "metadata": {},
      "outputs": [],
      "source": [
        "def plot_loss_curves(results):\n",
        "    \"\"\"Plots training curves of a results dictionary.\n",
        "\n",
        "    Args:\n",
        "        results (dict): dictionary containing list of values, e.g.\n",
        "            {\"train_loss\": [...],\n",
        "             \"train_acc\": [...],\n",
        "             \"val_loss\": [...],\n",
        "             \"val_acc\": [...]}\n",
        "    \"\"\"\n",
        "    loss = results[\"train_loss\"]\n",
        "    val_loss = results[\"val_loss\"]\n",
        "\n",
        "    accuracy = results[\"train_acc\"]\n",
        "    val_accuracy = results[\"val_acc\"]\n",
        "\n",
        "    epochs = range(len(results[\"train_loss\"]))\n",
        "\n",
        "    plt.figure(figsize=(15, 7))\n",
        "\n",
        "    # Plot loss\n",
        "    plt.subplot(1, 2, 1)\n",
        "    plt.plot(epochs, loss, label=\"train_loss\")\n",
        "    plt.plot(epochs, val_loss, label=\"val_loss\")\n",
        "    plt.title(\"Loss\")\n",
        "    plt.xlabel(\"Epochs\")\n",
        "    plt.legend()\n",
        "\n",
        "    # Plot accuracy\n",
        "    plt.subplot(1, 2, 2)\n",
        "    plt.plot(epochs, accuracy, label=\"train_accuracy\")\n",
        "    plt.plot(epochs, val_accuracy, label=\"val_accuracy\")\n",
        "    plt.title(\"Accuracy\")\n",
        "    plt.xlabel(\"Epochs\")\n",
        "    plt.legend()"
      ]
    },
    {
      "cell_type": "code",
      "execution_count": 34,
      "id": "5b664b5a",
      "metadata": {},
      "outputs": [
        {
          "data": {
            "image/png": "[encoded data removed]",
            "text/plain": [
              "<Figure size 1500x700 with 2 Axes>"
            ]
          },
          "metadata": {},
          "output_type": "display_data"
        }
      ],
      "source": [
        "# Check the Loss Curves\n",
        "plot_loss_curves(results)"
      ]
    },
    {
      "cell_type": "code",
      "execution_count": null,
      "id": "fa69a86c",
      "metadata": {},
      "outputs": [
        {
          "data": {
            "image/png": "[encoded data removed]",
            "text/plain": [
              "<Figure size 800x400 with 2 Axes>"
            ]
          },
          "metadata": {},
          "output_type": "display_data"
        }
      ],
      "source": [
        "import os\n",
        "import random\n",
        "import torch\n",
        "import matplotlib.pyplot as plt\n",
        "from torchvision import transforms\n",
        "from PIL import Image\n",
        "\n",
        "# --- CONFIG ---\n",
        "test_dir = \"./plantvillage dataset/color_splitted/test\"\n",
        "device = torch.device(\"cuda\" if torch.cuda.is_available() else \"cpu\")\n",
        "\n",
        "# --- TRANSFORMS (yours) ---\n",
        "transform = transforms.Compose(\n",
        "    [\n",
        "        transforms.Resize((224, 224)),\n",
        "        transforms.ToTensor(),\n",
        "        transforms.Normalize([0.485, 0.456, 0.406], [0.229, 0.224, 0.225]),\n",
        "    ]\n",
        ")\n",
        "\n",
        "# --- PICK RANDOM IMAGE ---\n",
        "classes = sorted(os.listdir(test_dir))\n",
        "random_class = random.choice(classes)\n",
        "class_dir = os.path.join(test_dir, random_class)\n",
        "random_image = random.choice(os.listdir(class_dir))\n",
        "img_path = os.path.join(class_dir, random_image)\n",
        "\n",
        "# --- LOAD IMAGE ---\n",
        "img = Image.open(img_path).convert(\"RGB\")\n",
        "img_tensor = transform(img).unsqueeze(0).to(device)\n",
        "\n",
        "# --- PREDICT ---\n",
        "model.eval()\n",
        "with torch.no_grad():\n",
        "    outputs = model(img_tensor)\n",
        "    _, predicted = torch.max(outputs, 1)\n",
        "pred_class = classes[predicted.item()]\n",
        "\n",
        "# --- PLOT ORIGINAL & PREDICTED ---\n",
        "plt.figure(figsize=(8, 4))\n",
        "\n",
        "plt.subplot(1, 2, 1)\n",
        "plt.imshow(Image.open(img_path))\n",
        "plt.title(f\"Actual: {random_class}\")\n",
        "plt.axis(\"off\")\n",
        "\n",
        "plt.subplot(1, 2, 2)\n",
        "plt.imshow(Image.open(img_path))\n",
        "plt.title(f\"Predicted: {pred_class}\")\n",
        "plt.axis(\"off\")\n",
        "\n",
        "plt.tight_layout()\n",
        "plt.show()"
      ]
    }
  ],
  "metadata": {
    "accelerator": "GPU",
    "colab": {
      "collapsed_sections": [
        "ed3ae57e",
        "47d57a16",
        "-JxDJdv2PLpc"
      ],
      "gpuType": "T4",
      "provenance": []
    },
    "kernelspec": {
      "display_name": "ai-env",
      "language": "python",
      "name": "python3"
    },
    "language_info": {
      "codemirror_mode": {
        "name": "ipython",
        "version": 3
      },
      "file_extension": ".py",
      "mimetype": "text/x-python",
      "name": "python",
      "nbconvert_exporter": "python",
      "pygments_lexer": "ipython3",
      "version": "3.10.18"
    },
    "widgets": {
      "application/vnd.jupyter.widget-state+json": {
        "00199bd72f284a39a52685335242cf9f": {
          "model_module": "@jupyter-widgets/controls",
          "model_module_version": "1.5.0",
          "model_name": "DescriptionStyleModel",
          "state": {
            "_model_module": "@jupyter-widgets/controls",
            "_model_module_version": "1.5.0",
            "_model_name": "DescriptionStyleModel",
            "_view_count": null,
            "_view_module": "@jupyter-widgets/base",
            "_view_module_version": "1.2.0",
            "_view_name": "StyleView",
            "description_width": ""
          }
        },
        "236f2045b4b448a086583c4010e395c3": {
          "model_module": "@jupyter-widgets/base",
          "model_module_version": "1.2.0",
          "model_name": "LayoutModel",
          "state": {
            "_model_module": "@jupyter-widgets/base",
            "_model_module_version": "1.2.0",
            "_model_name": "LayoutModel",
            "_view_count": null,
            "_view_module": "@jupyter-widgets/base",
            "_view_module_version": "1.2.0",
            "_view_name": "LayoutView",
            "align_content": null,
            "align_items": null,
            "align_self": null,
            "border": null,
            "bottom": null,
            "display": null,
            "flex": null,
            "flex_flow": null,
            "grid_area": null,
            "grid_auto_columns": null,
            "grid_auto_flow": null,
            "grid_auto_rows": null,
            "grid_column": null,
            "grid_gap": null,
            "grid_row": null,
            "grid_template_areas": null,
            "grid_template_columns": null,
            "grid_template_rows": null,
            "height": null,
            "justify_content": null,
            "justify_items": null,
            "left": null,
            "margin": null,
            "max_height": null,
            "max_width": null,
            "min_height": null,
            "min_width": null,
            "object_fit": null,
            "object_position": null,
            "order": null,
            "overflow": null,
            "overflow_x": null,
            "overflow_y": null,
            "padding": null,
            "right": null,
            "top": null,
            "visibility": null,
            "width": null
          }
        },
        "2fb6f074257c4d0a87e5793dae320cdf": {
          "model_module": "@jupyter-widgets/base",
          "model_module_version": "1.2.0",
          "model_name": "LayoutModel",
          "state": {
            "_model_module": "@jupyter-widgets/base",
            "_model_module_version": "1.2.0",
            "_model_name": "LayoutModel",
            "_view_count": null,
            "_view_module": "@jupyter-widgets/base",
            "_view_module_version": "1.2.0",
            "_view_name": "LayoutView",
            "align_content": null,
            "align_items": null,
            "align_self": null,
            "border": null,
            "bottom": null,
            "display": null,
            "flex": null,
            "flex_flow": null,
            "grid_area": null,
            "grid_auto_columns": null,
            "grid_auto_flow": null,
            "grid_auto_rows": null,
            "grid_column": null,
            "grid_gap": null,
            "grid_row": null,
            "grid_template_areas": null,
            "grid_template_columns": null,
            "grid_template_rows": null,
            "height": null,
            "justify_content": null,
            "justify_items": null,
            "left": null,
            "margin": null,
            "max_height": null,
            "max_width": null,
            "min_height": null,
            "min_width": null,
            "object_fit": null,
            "object_position": null,
            "order": null,
            "overflow": null,
            "overflow_x": null,
            "overflow_y": null,
            "padding": null,
            "right": null,
            "top": null,
            "visibility": null,
            "width": null
          }
        },
        "357dcd8eabfd41cab58fc58a4a317156": {
          "model_module": "@jupyter-widgets/base",
          "model_module_version": "1.2.0",
          "model_name": "LayoutModel",
          "state": {
            "_model_module": "@jupyter-widgets/base",
            "_model_module_version": "1.2.0",
            "_model_name": "LayoutModel",
            "_view_count": null,
            "_view_module": "@jupyter-widgets/base",
            "_view_module_version": "1.2.0",
            "_view_name": "LayoutView",
            "align_content": null,
            "align_items": null,
            "align_self": null,
            "border": null,
            "bottom": null,
            "display": null,
            "flex": null,
            "flex_flow": null,
            "grid_area": null,
            "grid_auto_columns": null,
            "grid_auto_flow": null,
            "grid_auto_rows": null,
            "grid_column": null,
            "grid_gap": null,
            "grid_row": null,
            "grid_template_areas": null,
            "grid_template_columns": null,
            "grid_template_rows": null,
            "height": null,
            "justify_content": null,
            "justify_items": null,
            "left": null,
            "margin": null,
            "max_height": null,
            "max_width": null,
            "min_height": null,
            "min_width": null,
            "object_fit": null,
            "object_position": null,
            "order": null,
            "overflow": null,
            "overflow_x": null,
            "overflow_y": null,
            "padding": null,
            "right": null,
            "top": null,
            "visibility": null,
            "width": null
          }
        },
        "40bc902f784441a9999665531126aa56": {
          "model_module": "@jupyter-widgets/controls",
          "model_module_version": "1.5.0",
          "model_name": "FloatProgressModel",
          "state": {
            "_dom_classes": [],
            "_model_module": "@jupyter-widgets/controls",
            "_model_module_version": "1.5.0",
            "_model_name": "FloatProgressModel",
            "_view_count": null,
            "_view_module": "@jupyter-widgets/controls",
            "_view_module_version": "1.5.0",
            "_view_name": "ProgressView",
            "bar_style": "danger",
            "description": "",
            "description_tooltip": null,
            "layout": "IPY_MODEL_2fb6f074257c4d0a87e5793dae320cdf",
            "max": 10,
            "min": 0,
            "orientation": "horizontal",
            "style": "IPY_MODEL_c85207a5608640dcb324e55feafee2f5",
            "value": 4
          }
        },
        "55dd030f0c9b428192b240b8b9a43e64": {
          "model_module": "@jupyter-widgets/controls",
          "model_module_version": "1.5.0",
          "model_name": "DescriptionStyleModel",
          "state": {
            "_model_module": "@jupyter-widgets/controls",
            "_model_module_version": "1.5.0",
            "_model_name": "DescriptionStyleModel",
            "_view_count": null,
            "_view_module": "@jupyter-widgets/base",
            "_view_module_version": "1.2.0",
            "_view_name": "StyleView",
            "description_width": ""
          }
        },
        "619243776339473ca803fb84360c779e": {
          "model_module": "@jupyter-widgets/base",
          "model_module_version": "1.2.0",
          "model_name": "LayoutModel",
          "state": {
            "_model_module": "@jupyter-widgets/base",
            "_model_module_version": "1.2.0",
            "_model_name": "LayoutModel",
            "_view_count": null,
            "_view_module": "@jupyter-widgets/base",
            "_view_module_version": "1.2.0",
            "_view_name": "LayoutView",
            "align_content": null,
            "align_items": null,
            "align_self": null,
            "border": null,
            "bottom": null,
            "display": null,
            "flex": null,
            "flex_flow": null,
            "grid_area": null,
            "grid_auto_columns": null,
            "grid_auto_flow": null,
            "grid_auto_rows": null,
            "grid_column": null,
            "grid_gap": null,
            "grid_row": null,
            "grid_template_areas": null,
            "grid_template_columns": null,
            "grid_template_rows": null,
            "height": null,
            "justify_content": null,
            "justify_items": null,
            "left": null,
            "margin": null,
            "max_height": null,
            "max_width": null,
            "min_height": null,
            "min_width": null,
            "object_fit": null,
            "object_position": null,
            "order": null,
            "overflow": null,
            "overflow_x": null,
            "overflow_y": null,
            "padding": null,
            "right": null,
            "top": null,
            "visibility": null,
            "width": null
          }
        },
        "65b4034cd2b04b5fb4ae4e94256276b3": {
          "model_module": "@jupyter-widgets/controls",
          "model_module_version": "1.5.0",
          "model_name": "HBoxModel",
          "state": {
            "_dom_classes": [],
            "_model_module": "@jupyter-widgets/controls",
            "_model_module_version": "1.5.0",
            "_model_name": "HBoxModel",
            "_view_count": null,
            "_view_module": "@jupyter-widgets/controls",
            "_view_module_version": "1.5.0",
            "_view_name": "HBoxView",
            "box_style": "",
            "children": [
              "IPY_MODEL_744d72aebfe04466847a035b5d0f8dd1",
              "IPY_MODEL_40bc902f784441a9999665531126aa56",
              "IPY_MODEL_a64fa9f83b324a3d98dadfa27d795e04"
            ],
            "layout": "IPY_MODEL_236f2045b4b448a086583c4010e395c3"
          }
        },
        "6b8338f3c6f846e3a4c188e2baa665d6": {
          "model_module": "@jupyter-widgets/controls",
          "model_module_version": "1.5.0",
          "model_name": "HBoxModel",
          "state": {
            "_dom_classes": [],
            "_model_module": "@jupyter-widgets/controls",
            "_model_module_version": "1.5.0",
            "_model_name": "HBoxModel",
            "_view_count": null,
            "_view_module": "@jupyter-widgets/controls",
            "_view_module_version": "1.5.0",
            "_view_name": "HBoxView",
            "box_style": "",
            "children": [
              "IPY_MODEL_bf277598ae2f4f0dbf58df0160b655a1",
              "IPY_MODEL_f59fe4ecdf82420893e3584cca14123b",
              "IPY_MODEL_b6de846c8ef64e00ad9cd48f1cf141e2"
            ],
            "layout": "IPY_MODEL_ad2868387e4e431482a0c629ee75d9e3"
          }
        },
        "744d72aebfe04466847a035b5d0f8dd1": {
          "model_module": "@jupyter-widgets/controls",
          "model_module_version": "1.5.0",
          "model_name": "HTMLModel",
          "state": {
            "_dom_classes": [],
            "_model_module": "@jupyter-widgets/controls",
            "_model_module_version": "1.5.0",
            "_model_name": "HTMLModel",
            "_view_count": null,
            "_view_module": "@jupyter-widgets/controls",
            "_view_module_version": "1.5.0",
            "_view_name": "HTMLView",
            "description": "",
            "description_tooltip": null,
            "layout": "IPY_MODEL_ace1f15a98e74f2fa81643eabb752460",
            "placeholder": "​",
            "style": "IPY_MODEL_00199bd72f284a39a52685335242cf9f",
            "value": " 40%"
          }
        },
        "76f0ce1d420242c8948b74fd371b3d4e": {
          "model_module": "@jupyter-widgets/base",
          "model_module_version": "1.2.0",
          "model_name": "LayoutModel",
          "state": {
            "_model_module": "@jupyter-widgets/base",
            "_model_module_version": "1.2.0",
            "_model_name": "LayoutModel",
            "_view_count": null,
            "_view_module": "@jupyter-widgets/base",
            "_view_module_version": "1.2.0",
            "_view_name": "LayoutView",
            "align_content": null,
            "align_items": null,
            "align_self": null,
            "border": null,
            "bottom": null,
            "display": null,
            "flex": null,
            "flex_flow": null,
            "grid_area": null,
            "grid_auto_columns": null,
            "grid_auto_flow": null,
            "grid_auto_rows": null,
            "grid_column": null,
            "grid_gap": null,
            "grid_row": null,
            "grid_template_areas": null,
            "grid_template_columns": null,
            "grid_template_rows": null,
            "height": null,
            "justify_content": null,
            "justify_items": null,
            "left": null,
            "margin": null,
            "max_height": null,
            "max_width": null,
            "min_height": null,
            "min_width": null,
            "object_fit": null,
            "object_position": null,
            "order": null,
            "overflow": null,
            "overflow_x": null,
            "overflow_y": null,
            "padding": null,
            "right": null,
            "top": null,
            "visibility": null,
            "width": null
          }
        },
        "a64fa9f83b324a3d98dadfa27d795e04": {
          "model_module": "@jupyter-widgets/controls",
          "model_module_version": "1.5.0",
          "model_name": "HTMLModel",
          "state": {
            "_dom_classes": [],
            "_model_module": "@jupyter-widgets/controls",
            "_model_module_version": "1.5.0",
            "_model_name": "HTMLModel",
            "_view_count": null,
            "_view_module": "@jupyter-widgets/controls",
            "_view_module_version": "1.5.0",
            "_view_name": "HTMLView",
            "description": "",
            "description_tooltip": null,
            "layout": "IPY_MODEL_fbe9f34429284420aea836b602d3658a",
            "placeholder": "​",
            "style": "IPY_MODEL_c6f06c3f21dd46b2ae942cf8e9f18b8b",
            "value": " 4/10 [01:47&lt;02:21, 23.64s/it]"
          }
        },
        "ace1f15a98e74f2fa81643eabb752460": {
          "model_module": "@jupyter-widgets/base",
          "model_module_version": "1.2.0",
          "model_name": "LayoutModel",
          "state": {
            "_model_module": "@jupyter-widgets/base",
            "_model_module_version": "1.2.0",
            "_model_name": "LayoutModel",
            "_view_count": null,
            "_view_module": "@jupyter-widgets/base",
            "_view_module_version": "1.2.0",
            "_view_name": "LayoutView",
            "align_content": null,
            "align_items": null,
            "align_self": null,
            "border": null,
            "bottom": null,
            "display": null,
            "flex": null,
            "flex_flow": null,
            "grid_area": null,
            "grid_auto_columns": null,
            "grid_auto_flow": null,
            "grid_auto_rows": null,
            "grid_column": null,
            "grid_gap": null,
            "grid_row": null,
            "grid_template_areas": null,
            "grid_template_columns": null,
            "grid_template_rows": null,
            "height": null,
            "justify_content": null,
            "justify_items": null,
            "left": null,
            "margin": null,
            "max_height": null,
            "max_width": null,
            "min_height": null,
            "min_width": null,
            "object_fit": null,
            "object_position": null,
            "order": null,
            "overflow": null,
            "overflow_x": null,
            "overflow_y": null,
            "padding": null,
            "right": null,
            "top": null,
            "visibility": null,
            "width": null
          }
        },
        "ad2868387e4e431482a0c629ee75d9e3": {
          "model_module": "@jupyter-widgets/base",
          "model_module_version": "1.2.0",
          "model_name": "LayoutModel",
          "state": {
            "_model_module": "@jupyter-widgets/base",
            "_model_module_version": "1.2.0",
            "_model_name": "LayoutModel",
            "_view_count": null,
            "_view_module": "@jupyter-widgets/base",
            "_view_module_version": "1.2.0",
            "_view_name": "LayoutView",
            "align_content": null,
            "align_items": null,
            "align_self": null,
            "border": null,
            "bottom": null,
            "display": null,
            "flex": null,
            "flex_flow": null,
            "grid_area": null,
            "grid_auto_columns": null,
            "grid_auto_flow": null,
            "grid_auto_rows": null,
            "grid_column": null,
            "grid_gap": null,
            "grid_row": null,
            "grid_template_areas": null,
            "grid_template_columns": null,
            "grid_template_rows": null,
            "height": null,
            "justify_content": null,
            "justify_items": null,
            "left": null,
            "margin": null,
            "max_height": null,
            "max_width": null,
            "min_height": null,
            "min_width": null,
            "object_fit": null,
            "object_position": null,
            "order": null,
            "overflow": null,
            "overflow_x": null,
            "overflow_y": null,
            "padding": null,
            "right": null,
            "top": null,
            "visibility": null,
            "width": null
          }
        },
        "aeb23cefd4174f1aa9e41d4bf55f4613": {
          "model_module": "@jupyter-widgets/controls",
          "model_module_version": "1.5.0",
          "model_name": "DescriptionStyleModel",
          "state": {
            "_model_module": "@jupyter-widgets/controls",
            "_model_module_version": "1.5.0",
            "_model_name": "DescriptionStyleModel",
            "_view_count": null,
            "_view_module": "@jupyter-widgets/base",
            "_view_module_version": "1.2.0",
            "_view_name": "StyleView",
            "description_width": ""
          }
        },
        "b6de846c8ef64e00ad9cd48f1cf141e2": {
          "model_module": "@jupyter-widgets/controls",
          "model_module_version": "1.5.0",
          "model_name": "HTMLModel",
          "state": {
            "_dom_classes": [],
            "_model_module": "@jupyter-widgets/controls",
            "_model_module_version": "1.5.0",
            "_model_name": "HTMLModel",
            "_view_count": null,
            "_view_module": "@jupyter-widgets/controls",
            "_view_module_version": "1.5.0",
            "_view_name": "HTMLView",
            "description": "",
            "description_tooltip": null,
            "layout": "IPY_MODEL_76f0ce1d420242c8948b74fd371b3d4e",
            "placeholder": "​",
            "style": "IPY_MODEL_aeb23cefd4174f1aa9e41d4bf55f4613",
            "value": " 5/5 [01:04&lt;00:00, 12.65s/it]"
          }
        },
        "bf277598ae2f4f0dbf58df0160b655a1": {
          "model_module": "@jupyter-widgets/controls",
          "model_module_version": "1.5.0",
          "model_name": "HTMLModel",
          "state": {
            "_dom_classes": [],
            "_model_module": "@jupyter-widgets/controls",
            "_model_module_version": "1.5.0",
            "_model_name": "HTMLModel",
            "_view_count": null,
            "_view_module": "@jupyter-widgets/controls",
            "_view_module_version": "1.5.0",
            "_view_name": "HTMLView",
            "description": "",
            "description_tooltip": null,
            "layout": "IPY_MODEL_619243776339473ca803fb84360c779e",
            "placeholder": "​",
            "style": "IPY_MODEL_55dd030f0c9b428192b240b8b9a43e64",
            "value": "100%"
          }
        },
        "c6f06c3f21dd46b2ae942cf8e9f18b8b": {
          "model_module": "@jupyter-widgets/controls",
          "model_module_version": "1.5.0",
          "model_name": "DescriptionStyleModel",
          "state": {
            "_model_module": "@jupyter-widgets/controls",
            "_model_module_version": "1.5.0",
            "_model_name": "DescriptionStyleModel",
            "_view_count": null,
            "_view_module": "@jupyter-widgets/base",
            "_view_module_version": "1.2.0",
            "_view_name": "StyleView",
            "description_width": ""
          }
        },
        "c85207a5608640dcb324e55feafee2f5": {
          "model_module": "@jupyter-widgets/controls",
          "model_module_version": "1.5.0",
          "model_name": "ProgressStyleModel",
          "state": {
            "_model_module": "@jupyter-widgets/controls",
            "_model_module_version": "1.5.0",
            "_model_name": "ProgressStyleModel",
            "_view_count": null,
            "_view_module": "@jupyter-widgets/base",
            "_view_module_version": "1.2.0",
            "_view_name": "StyleView",
            "bar_color": null,
            "description_width": ""
          }
        },
        "c921d0f62b164ca4addfbb59ee4d72a0": {
          "model_module": "@jupyter-widgets/controls",
          "model_module_version": "1.5.0",
          "model_name": "ProgressStyleModel",
          "state": {
            "_model_module": "@jupyter-widgets/controls",
            "_model_module_version": "1.5.0",
            "_model_name": "ProgressStyleModel",
            "_view_count": null,
            "_view_module": "@jupyter-widgets/base",
            "_view_module_version": "1.2.0",
            "_view_name": "StyleView",
            "bar_color": null,
            "description_width": ""
          }
        },
        "f59fe4ecdf82420893e3584cca14123b": {
          "model_module": "@jupyter-widgets/controls",
          "model_module_version": "1.5.0",
          "model_name": "FloatProgressModel",
          "state": {
            "_dom_classes": [],
            "_model_module": "@jupyter-widgets/controls",
            "_model_module_version": "1.5.0",
            "_model_name": "FloatProgressModel",
            "_view_count": null,
            "_view_module": "@jupyter-widgets/controls",
            "_view_module_version": "1.5.0",
            "_view_name": "ProgressView",
            "bar_style": "success",
            "description": "",
            "description_tooltip": null,
            "layout": "IPY_MODEL_357dcd8eabfd41cab58fc58a4a317156",
            "max": 5,
            "min": 0,
            "orientation": "horizontal",
            "style": "IPY_MODEL_c921d0f62b164ca4addfbb59ee4d72a0",
            "value": 5
          }
        },
        "fbe9f34429284420aea836b602d3658a": {
          "model_module": "@jupyter-widgets/base",
          "model_module_version": "1.2.0",
          "model_name": "LayoutModel",
          "state": {
            "_model_module": "@jupyter-widgets/base",
            "_model_module_version": "1.2.0",
            "_model_name": "LayoutModel",
            "_view_count": null,
            "_view_module": "@jupyter-widgets/base",
            "_view_module_version": "1.2.0",
            "_view_name": "LayoutView",
            "align_content": null,
            "align_items": null,
            "align_self": null,
            "border": null,
            "bottom": null,
            "display": null,
            "flex": null,
            "flex_flow": null,
            "grid_area": null,
            "grid_auto_columns": null,
            "grid_auto_flow": null,
            "grid_auto_rows": null,
            "grid_column": null,
            "grid_gap": null,
            "grid_row": null,
            "grid_template_areas": null,
            "grid_template_columns": null,
            "grid_template_rows": null,
            "height": null,
            "justify_content": null,
            "justify_items": null,
            "left": null,
            "margin": null,
            "max_height": null,
            "max_width": null,
            "min_height": null,
            "min_width": null,
            "object_fit": null,
            "object_position": null,
            "order": null,
            "overflow": null,
            "overflow_x": null,
            "overflow_y": null,
            "padding": null,
            "right": null,
            "top": null,
            "visibility": null,
            "width": null
          }
        }
      }
    }
  },
  "nbformat": 4,
  "nbformat_minor": 5
}
